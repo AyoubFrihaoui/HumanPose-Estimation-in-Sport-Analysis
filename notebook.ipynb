{
 "cells": [
  {
   "cell_type": "code",
   "execution_count": 144,
   "metadata": {},
   "outputs": [],
   "source": [
    "import cv2\n",
    "import mediapipe as mp\n",
    "import csv"
   ]
  },
  {
   "cell_type": "code",
   "execution_count": 149,
   "metadata": {},
   "outputs": [],
   "source": [
    "video_path = './Data/videos/20240301_173455.mp4'\n",
    "output_csv = './output'"
   ]
  },
  {
   "cell_type": "code",
   "execution_count": 150,
   "metadata": {},
   "outputs": [],
   "source": [
    "## initialize pose estimator\n",
    "mp_drawing = mp.solutions.drawing_utils\n",
    "mp_pose = mp.solutions.pose\n",
    "pose = mp_pose.Pose(min_detection_confidence=0.35, min_tracking_confidence=0.4, model_complexity = 2)"
   ]
  },
  {
   "cell_type": "code",
   "execution_count": 151,
   "metadata": {},
   "outputs": [],
   "source": [
    "cap = cv2.VideoCapture(video_path)\n",
    "while cap.isOpened():\n",
    "    # read frame\n",
    "    _, frame = cap.read()\n",
    "    try:\n",
    "         # resize the frame for portrait video\n",
    "         frame = frame[0:1440,3840-2560:3840]\n",
    "         #frame = cv2.resize(frame, (1280, 720))\n",
    "         # convert to RGB\n",
    "         frame_rgb = cv2.cvtColor(frame, cv2.COLOR_BGR2RGB)\n",
    "         \n",
    "         # process the frame for pose detection\n",
    "         pose_results = pose.process(frame_rgb)\n",
    "         # print(pose_results.pose_landmarks)\n",
    "         \n",
    "         # draw skeleton on the frame\n",
    "         mp_drawing.draw_landmarks(frame, pose_results.pose_landmarks, mp_pose.POSE_CONNECTIONS)\n",
    "         # display the frame\n",
    "         cv2.imshow('Output', cv2.resize(frame, (1280, 720)))\n",
    "    except:\n",
    "         break\n",
    "    \n",
    "    key = cv2.waitKey(1)\n",
    "    if key == ord('q'):\n",
    "        break\n",
    "    if key == ord('p'):\n",
    "        cv2.waitKey(-1) #wait until any key is pressed\n",
    "    \n",
    "    \n",
    "          \n",
    "cap.release()\n",
    "cv2.destroyAllWindows()"
   ]
  }
 ],
 "metadata": {
  "kernelspec": {
   "display_name": "Python 3",
   "language": "python",
   "name": "python3"
  },
  "language_info": {
   "codemirror_mode": {
    "name": "ipython",
    "version": 3
   },
   "file_extension": ".py",
   "mimetype": "text/x-python",
   "name": "python",
   "nbconvert_exporter": "python",
   "pygments_lexer": "ipython3",
   "version": "3.11.4"
  }
 },
 "nbformat": 4,
 "nbformat_minor": 2
}
